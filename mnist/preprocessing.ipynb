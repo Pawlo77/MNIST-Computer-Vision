{
 "cells": [
  {
   "cell_type": "code",
   "execution_count": 1,
   "metadata": {},
   "outputs": [],
   "source": [
    "import sys\n",
    "\n",
    "sys.path.append(\"../\")"
   ]
  },
  {
   "cell_type": "code",
   "execution_count": 2,
   "metadata": {},
   "outputs": [],
   "source": [
    "from traditional_models.utils import get_mnist\n",
    "\n",
    "X_train, X_test, y_train, y_test = get_mnist(return_numpy=True)"
   ]
  },
  {
   "attachments": {},
   "cell_type": "markdown",
   "metadata": {},
   "source": [
    "First step - data augumentation and setting pixels either to 0 or 1"
   ]
  },
  {
   "cell_type": "code",
   "execution_count": 3,
   "metadata": {},
   "outputs": [],
   "source": [
    "from traditional_models.preprocessing import to_black_white, generate_additional\n",
    "\n",
    "X_train, y_train = generate_additional(X_train, y_train)\n",
    "\n",
    "X_train = X_train.reshape(X_train.shape[0], X_train.shape[1]*X_train.shape[2])\n",
    "X_test = X_test.reshape(X_test.shape[0], X_test.shape[1]*X_test.shape[2])\n",
    "\n",
    "X_train = to_black_white(X_train)\n",
    "X_test = to_black_white(X_test)"
   ]
  },
  {
   "attachments": {},
   "cell_type": "markdown",
   "metadata": {},
   "source": [
    "Let's have a look at original and rotated images"
   ]
  },
  {
   "cell_type": "code",
   "execution_count": 4,
   "metadata": {},
   "outputs": [
    {
     "data": {
      "image/png": "[encoded data removed]",
      "text/plain": [
       "<Figure size 600x1000 with 15 Axes>"
      ]
     },
     "metadata": {},
     "output_type": "display_data"
    }
   ],
   "source": [
    "from traditional_models.utils import plot_images\n",
    "\n",
    "z = 60000\n",
    "j = 0\n",
    "to_plot = []\n",
    "for i in range(5):\n",
    "    to_plot += [i, z + j, z + j + 1]\n",
    "    j += 2\n",
    "\n",
    "plot_images(X_train[to_plot, :].reshape(len(to_plot), 28, 28), y_train[to_plot], ncols=3)"
   ]
  },
  {
   "attachments": {},
   "cell_type": "markdown",
   "metadata": {},
   "source": [
    "2nd step - basic dimensionality reduction - remove redundant pixels"
   ]
  },
  {
   "cell_type": "code",
   "execution_count": 5,
   "metadata": {},
   "outputs": [
    {
     "name": "stdout",
     "output_type": "stream",
     "text": [
      "Removed 61 pixels\n"
     ]
    }
   ],
   "source": [
    "from traditional_models.preprocessing import drop_unused\n",
    "\n",
    "org_size = X_train.shape[1]\n",
    "X_train, keep = drop_unused(X_train)\n",
    "X_test, _ = drop_unused(X_test, keep)\n",
    "\n",
    "print(f\"Removed {org_size - len(keep)} pixels\")"
   ]
  },
  {
   "cell_type": "code",
   "execution_count": 6,
   "metadata": {},
   "outputs": [],
   "source": [
    "from traditional_models.utils import save_np\n",
    "\n",
    "save_np(X_train, y_train, \"train.npy\", \"preprocessed\")\n",
    "save_np(X_test, y_test, \"test.npy\", \"preprocessed\")"
   ]
  }
 ],
 "metadata": {
  "kernelspec": {
   "display_name": "cv",
   "language": "python",
   "name": "python3"
  },
  "language_info": {
   "codemirror_mode": {
    "name": "ipython",
    "version": 3
   },
   "file_extension": ".py",
   "mimetype": "text/x-python",
   "name": "python",
   "nbconvert_exporter": "python",
   "pygments_lexer": "ipython3",
   "version": "3.11.3"
  },
  "orig_nbformat": 4
 },
 "nbformat": 4,
 "nbformat_minor": 2
}
