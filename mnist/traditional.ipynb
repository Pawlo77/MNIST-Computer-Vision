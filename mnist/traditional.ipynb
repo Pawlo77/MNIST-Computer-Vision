{
 "cells": [
  {
   "cell_type": "code",
   "execution_count": 1,
   "metadata": {},
   "outputs": [],
   "source": [
    "import sys\n",
    "import warnings\n",
    "\n",
    "warnings.filterwarnings('ignore', message='The objective has been evaluated at this point before.')\n",
    "sys.path.append(\"../\")"
   ]
  },
  {
   "attachments": {},
   "cell_type": "markdown",
   "metadata": {},
   "source": [
    "## Prepare Data"
   ]
  },
  {
   "cell_type": "code",
   "execution_count": 2,
   "metadata": {},
   "outputs": [],
   "source": [
    "from traditional_models.utils import load_np\n",
    "\n",
    "X_train, y_train = load_np(\"train.npy\")\n",
    "X_test, y_test = load_np(\"test.npy\")"
   ]
  },
  {
   "cell_type": "code",
   "execution_count": 3,
   "metadata": {},
   "outputs": [],
   "source": [
    "from traditional_models.utils import get_sample\n",
    "\n",
    "datasets = {}\n",
    "for samples_num in [5000, 10000, 15000]:\n",
    "    datasets[samples_num] = get_sample(X_train, y_train, samples_num)"
   ]
  },
  {
   "attachments": {},
   "cell_type": "markdown",
   "metadata": {},
   "source": [
    "In order to skip intensive computation we skip parameter tuning for most architectures, however suggested values are kept for viewer to give him a chance to evaluate them on his own (just change n_iter to much higher, like 20 or something)"
   ]
  },
  {
   "attachments": {},
   "cell_type": "markdown",
   "metadata": {},
   "source": [
    "## Random Forest Classifier"
   ]
  },
  {
   "cell_type": "code",
   "execution_count": 4,
   "metadata": {},
   "outputs": [],
   "source": [
    "from sklearn.ensemble import RandomForestClassifier\n",
    "from traditional_models.models import search_model_2\n",
    "\n",
    "params_forest = {  \n",
    "    \"n_estimators\": (250, 750),\n",
    "    \"max_depth\": (3, 10),\n",
    "    \"min_samples_split\": (2, 20),\n",
    "    \"min_samples_leaf\": (2, 20),\n",
    "    \"criterion\": [\"gini\", \"entropy\"]\n",
    "}\n",
    "\n",
    "results_forest = search_model_2(datasets, RandomForestClassifier(random_state=200, n_jobs=-1), params_forest, n_iter=1)"
   ]
  },
  {
   "cell_type": "code",
   "execution_count": 5,
   "metadata": {},
   "outputs": [
    {
     "name": "stdout",
     "output_type": "stream",
     "text": [
      "For ds of size 5000:\n",
      "\tTraining score: 0.8965\n",
      "\tTesting score:\n",
      "\t\tf1_score   - 0.8938\n",
      "\t\taccuracy_score - 0.8949\n",
      "For ds of size 10000:\n",
      "\tTraining score: 0.8955\n",
      "\tTesting score:\n",
      "\t\tf1_score   - 0.8939\n",
      "\t\taccuracy_score - 0.8951\n",
      "For ds of size 15000:\n",
      "\tTraining score: 0.8948\n",
      "\tTesting score:\n",
      "\t\tf1_score   - 0.8938\n",
      "\t\taccuracy_score - 0.8951\n",
      "\n",
      "Best model for ds_size = 5000\n",
      "Best params:\n",
      "{\n",
      "    \"criterion\": \"gini\",\n",
      "    \"max_depth\": 7,\n",
      "    \"min_samples_leaf\": 15,\n",
      "    \"min_samples_split\": 5,\n",
      "    \"n_estimators\": 498\n",
      "}\n"
     ]
    }
   ],
   "source": [
    "from traditional_models.models import report, get_best\n",
    "\n",
    "report(results_forest, X_test, y_test)\n",
    "random_forest = get_best(results_forest)[1][0]"
   ]
  },
  {
   "cell_type": "code",
   "execution_count": 6,
   "metadata": {},
   "outputs": [
    {
     "data": {
      "image/png": "[encoded data removed]",
      "text/plain": [
       "<Figure size 1000x600 with 1 Axes>"
      ]
     },
     "metadata": {},
     "output_type": "display_data"
    }
   ],
   "source": [
    "from traditional_models.models import plot_feature_importance\n",
    "\n",
    "plot_feature_importance(random_forest.feature_importances_, \"RandomForestClassifier\")"
   ]
  },
  {
   "attachments": {},
   "cell_type": "markdown",
   "metadata": {},
   "source": [
    "Based on above chart let's try to drop reduntant pixels - keep only half most important ones"
   ]
  },
  {
   "cell_type": "code",
   "execution_count": 7,
   "metadata": {},
   "outputs": [
    {
     "data": {
      "text/html": [
       "<style>#sk-container-id-1 {color: black;background-color: white;}#sk-container-id-1 pre{padding: 0;}#sk-container-id-1 div.sk-toggleable {background-color: white;}#sk-container-id-1 label.sk-toggleable__label {cursor: pointer;display: block;width: 100%;margin-bottom: 0;padding: 0.3em;box-sizing: border-box;text-align: center;}#sk-container-id-1 label.sk-toggleable__label-arrow:before {content: \"▸\";float: left;margin-right: 0.25em;color: #696969;}#sk-container-id-1 label.sk-toggleable__label-arrow:hover:before {color: black;}#sk-container-id-1 div.sk-estimator:hover label.sk-toggleable__label-arrow:before {color: black;}#sk-container-id-1 div.sk-toggleable__content {max-height: 0;max-width: 0;overflow: hidden;text-align: left;background-color: #f0f8ff;}#sk-container-id-1 div.sk-toggleable__content pre {margin: 0.2em;color: black;border-radius: 0.25em;background-color: #f0f8ff;}#sk-container-id-1 input.sk-toggleable__control:checked~div.sk-toggleable__content {max-height: 200px;max-width: 100%;overflow: auto;}#sk-container-id-1 input.sk-toggleable__control:checked~label.sk-toggleable__label-arrow:before {content: \"▾\";}#sk-container-id-1 div.sk-estimator input.sk-toggleable__control:checked~label.sk-toggleable__label {background-color: #d4ebff;}#sk-container-id-1 div.sk-label input.sk-toggleable__control:checked~label.sk-toggleable__label {background-color: #d4ebff;}#sk-container-id-1 input.sk-hidden--visually {border: 0;clip: rect(1px 1px 1px 1px);clip: rect(1px, 1px, 1px, 1px);height: 1px;margin: -1px;overflow: hidden;padding: 0;position: absolute;width: 1px;}#sk-container-id-1 div.sk-estimator {font-family: monospace;background-color: #f0f8ff;border: 1px dotted black;border-radius: 0.25em;box-sizing: border-box;margin-bottom: 0.5em;}#sk-container-id-1 div.sk-estimator:hover {background-color: #d4ebff;}#sk-container-id-1 div.sk-parallel-item::after {content: \"\";width: 100%;border-bottom: 1px solid gray;flex-grow: 1;}#sk-container-id-1 div.sk-label:hover label.sk-toggleable__label {background-color: #d4ebff;}#sk-container-id-1 div.sk-serial::before {content: \"\";position: absolute;border-left: 1px solid gray;box-sizing: border-box;top: 0;bottom: 0;left: 50%;z-index: 0;}#sk-container-id-1 div.sk-serial {display: flex;flex-direction: column;align-items: center;background-color: white;padding-right: 0.2em;padding-left: 0.2em;position: relative;}#sk-container-id-1 div.sk-item {position: relative;z-index: 1;}#sk-container-id-1 div.sk-parallel {display: flex;align-items: stretch;justify-content: center;background-color: white;position: relative;}#sk-container-id-1 div.sk-item::before, #sk-container-id-1 div.sk-parallel-item::before {content: \"\";position: absolute;border-left: 1px solid gray;box-sizing: border-box;top: 0;bottom: 0;left: 50%;z-index: -1;}#sk-container-id-1 div.sk-parallel-item {display: flex;flex-direction: column;z-index: 1;position: relative;background-color: white;}#sk-container-id-1 div.sk-parallel-item:first-child::after {align-self: flex-end;width: 50%;}#sk-container-id-1 div.sk-parallel-item:last-child::after {align-self: flex-start;width: 50%;}#sk-container-id-1 div.sk-parallel-item:only-child::after {width: 0;}#sk-container-id-1 div.sk-dashed-wrapped {border: 1px dashed gray;margin: 0 0.4em 0.5em 0.4em;box-sizing: border-box;padding-bottom: 0.4em;background-color: white;}#sk-container-id-1 div.sk-label label {font-family: monospace;font-weight: bold;display: inline-block;line-height: 1.2em;}#sk-container-id-1 div.sk-label-container {text-align: center;}#sk-container-id-1 div.sk-container {/* jupyter's `normalize.less` sets `[hidden] { display: none; }` but bootstrap.min.css set `[hidden] { display: none !important; }` so we also need the `!important` here to be able to override the default hidden behavior on the sphinx rendered scikit-learn.org. See: https://github.com/scikit-learn/scikit-learn/issues/21755 */display: inline-block !important;position: relative;}#sk-container-id-1 div.sk-text-repr-fallback {display: none;}</style><div id=\"sk-container-id-1\" class=\"sk-top-container\"><div class=\"sk-text-repr-fallback\"><pre>RandomForestClassifier(max_depth=7, min_samples_leaf=15, min_samples_split=5,\n",
       "                       n_estimators=498, n_jobs=-1, random_state=200)</pre><b>In a Jupyter environment, please rerun this cell to show the HTML representation or trust the notebook. <br />On GitHub, the HTML representation is unable to render, please try loading this page with nbviewer.org.</b></div><div class=\"sk-container\" hidden><div class=\"sk-item\"><div class=\"sk-estimator sk-toggleable\"><input class=\"sk-toggleable__control sk-hidden--visually\" id=\"sk-estimator-id-1\" type=\"checkbox\" checked><label for=\"sk-estimator-id-1\" class=\"sk-toggleable__label sk-toggleable__label-arrow\">RandomForestClassifier</label><div class=\"sk-toggleable__content\"><pre>RandomForestClassifier(max_depth=7, min_samples_leaf=15, min_samples_split=5,\n",
       "                       n_estimators=498, n_jobs=-1, random_state=200)</pre></div></div></div></div></div>"
      ],
      "text/plain": [
       "RandomForestClassifier(max_depth=7, min_samples_leaf=15, min_samples_split=5,\n",
       "                       n_estimators=498, n_jobs=-1, random_state=200)"
      ]
     },
     "execution_count": 7,
     "metadata": {},
     "output_type": "execute_result"
    }
   ],
   "source": [
    "import numpy as np\n",
    "\n",
    "importances = random_forest.feature_importances_\n",
    "keep = np.argsort(-importances, )[:int(np.ceil(len(importances) / 2))]\n",
    "\n",
    "X_reduced, y = datasets[15000]\n",
    "X_reduced = X_reduced[:, keep]\n",
    "random_forest_reduced = RandomForestClassifier(**random_forest.get_params())\n",
    "random_forest_reduced.fit(X_reduced, y)"
   ]
  },
  {
   "attachments": {},
   "cell_type": "markdown",
   "metadata": {},
   "source": [
    "That allowed us to keep nearly the same accuracy and lower training time"
   ]
  },
  {
   "cell_type": "code",
   "execution_count": 8,
   "metadata": {},
   "outputs": [
    {
     "name": "stdout",
     "output_type": "stream",
     "text": [
      "f1_score   - 0.8918\n",
      "accuracy_score - 0.8930\n"
     ]
    }
   ],
   "source": [
    "from traditional_models.models import print_metrics\n",
    "\n",
    "print_metrics(random_forest_reduced, X_test[:, keep], y_test)"
   ]
  },
  {
   "attachments": {},
   "cell_type": "markdown",
   "metadata": {},
   "source": [
    "## ExtraTreesClassifier"
   ]
  },
  {
   "cell_type": "code",
   "execution_count": 9,
   "metadata": {},
   "outputs": [],
   "source": [
    "from sklearn.ensemble import ExtraTreesClassifier\n",
    "\n",
    "params_extra = {  \n",
    "    \"n_estimators\": (250, 750),\n",
    "    \"max_depth\": (3, 10),\n",
    "    \"min_samples_split\": (2, 20),\n",
    "    \"min_samples_leaf\": (2, 20),\n",
    "    \"criterion\": [\"gini\", \"entropy\"]\n",
    "}\n",
    "\n",
    "results_extra = search_model_2(datasets, ExtraTreesClassifier(random_state=200, n_jobs=-1), params_extra, n_iter=1)"
   ]
  },
  {
   "cell_type": "code",
   "execution_count": 10,
   "metadata": {},
   "outputs": [
    {
     "name": "stdout",
     "output_type": "stream",
     "text": [
      "For ds of size 5000:\n",
      "\tTraining score: 0.8968\n",
      "\tTesting score:\n",
      "\t\tf1_score   - 0.8912\n",
      "\t\taccuracy_score - 0.8924\n",
      "For ds of size 10000:\n",
      "\tTraining score: 0.8960\n",
      "\tTesting score:\n",
      "\t\tf1_score   - 0.8941\n",
      "\t\taccuracy_score - 0.8953\n",
      "For ds of size 15000:\n",
      "\tTraining score: 0.8950\n",
      "\tTesting score:\n",
      "\t\tf1_score   - 0.8955\n",
      "\t\taccuracy_score - 0.8968\n",
      "\n",
      "Best model for ds_size = 5000\n",
      "Best params:\n",
      "{\n",
      "    \"criterion\": \"gini\",\n",
      "    \"max_depth\": 7,\n",
      "    \"min_samples_leaf\": 15,\n",
      "    \"min_samples_split\": 5,\n",
      "    \"n_estimators\": 498\n",
      "}\n"
     ]
    }
   ],
   "source": [
    "report(results_extra, X_test, y_test)\n",
    "extra_trees = get_best(results_extra)[1][0]"
   ]
  },
  {
   "cell_type": "code",
   "execution_count": 11,
   "metadata": {},
   "outputs": [
    {
     "data": {
      "image/png": "[encoded data removed]",
      "text/plain": [
       "<Figure size 1000x600 with 1 Axes>"
      ]
     },
     "metadata": {},
     "output_type": "display_data"
    }
   ],
   "source": [
    "plot_feature_importance(extra_trees.feature_importances_, \"ExtraTreesClassifier\")"
   ]
  },
  {
   "attachments": {},
   "cell_type": "markdown",
   "metadata": {},
   "source": [
    "This time let's try to find the best model using pixels with any feature importance. This time thus to smaller pixel count we allow more estimators"
   ]
  },
  {
   "cell_type": "code",
   "execution_count": 12,
   "metadata": {},
   "outputs": [],
   "source": [
    "import numpy as np\n",
    "\n",
    "def get_no_zero_importance(best_model, datasets):\n",
    "    importances = best_model.feature_importances_\n",
    "    keep = np.where(importances > 0)[0]\n",
    "    X_reduced, y = datasets[15000]\n",
    "    X_reduced = X_reduced[:, keep]\n",
    "    print(f\"Kept {len(keep)} pixels out of {len(best_model.feature_importances_)}.\")\n",
    "    return X_reduced, y, keep"
   ]
  },
  {
   "cell_type": "code",
   "execution_count": 13,
   "metadata": {},
   "outputs": [
    {
     "name": "stdout",
     "output_type": "stream",
     "text": [
      "Kept 502 pixels out of 723.\n"
     ]
    }
   ],
   "source": [
    "params_extra[\"n_estimators\"] = (250, 1000)\n",
    "\n",
    "X_reduced, y, keep = get_no_zero_importance(extra_trees, datasets)\n",
    "results_extra_reduced = search_model_2({15000: (X_reduced, y)}, ExtraTreesClassifier(random_state=200, n_jobs=-1), params_extra, n_iter=1)"
   ]
  },
  {
   "cell_type": "code",
   "execution_count": 14,
   "metadata": {},
   "outputs": [
    {
     "name": "stdout",
     "output_type": "stream",
     "text": [
      "For ds of size 15000:\n",
      "\tTraining score: 0.8940\n",
      "\tTesting score:\n",
      "\t\tf1_score   - 0.8942\n",
      "\t\taccuracy_score - 0.8954\n",
      "\n",
      "Best model for ds_size = 15000\n",
      "Best params:\n",
      "{\n",
      "    \"criterion\": \"gini\",\n",
      "    \"max_depth\": 7,\n",
      "    \"min_samples_leaf\": 15,\n",
      "    \"min_samples_split\": 5,\n",
      "    \"n_estimators\": 622\n",
      "}\n"
     ]
    }
   ],
   "source": [
    "report(results_extra_reduced, X_test[:, keep], y_test)"
   ]
  },
  {
   "attachments": {},
   "cell_type": "markdown",
   "metadata": {},
   "source": [
    "To later use let's save indexes of these \"most important\" pixels"
   ]
  },
  {
   "cell_type": "code",
   "execution_count": 20,
   "metadata": {},
   "outputs": [],
   "source": [
    "import os\n",
    "\n",
    "os.makedirs(f\"data\", exist_ok=True)\n",
    "with open(os.path.join(\"data\", \"best_pixels.npy\"), \"wb\") as f:\n",
    "    np.save(f, keep)"
   ]
  }
 ],
 "metadata": {
  "kernelspec": {
   "display_name": "cv",
   "language": "python",
   "name": "python3"
  },
  "language_info": {
   "codemirror_mode": {
    "name": "ipython",
    "version": 3
   },
   "file_extension": ".py",
   "mimetype": "text/x-python",
   "name": "python",
   "nbconvert_exporter": "python",
   "pygments_lexer": "ipython3",
   "version": "3.11.3"
  },
  "orig_nbformat": 4
 },
 "nbformat": 4,
 "nbformat_minor": 2
}
